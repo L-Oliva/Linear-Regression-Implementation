{
  "nbformat": 4,
  "nbformat_minor": 0,
  "metadata": {
    "colab": {
      "provenance": [],
      "authorship_tag": "ABX9TyP9B8R0+qsSMUfz1qpETrtu",
      "include_colab_link": true
    },
    "kernelspec": {
      "name": "python3",
      "display_name": "Python 3"
    },
    "language_info": {
      "name": "python"
    }
  },
  "cells": [
    {
      "cell_type": "markdown",
      "metadata": {
        "id": "view-in-github",
        "colab_type": "text"
      },
      "source": [
        "<a href=\"https://colab.research.google.com/github/L-Oliva/Linear-Regression-Implementation/blob/main/Multiple_Linear_Regression.ipynb\" target=\"_parent\"><img src=\"https://colab.research.google.com/assets/colab-badge.svg\" alt=\"Open In Colab\"/></a>"
      ]
    },
    {
      "cell_type": "code",
      "execution_count": 52,
      "metadata": {
        "id": "V8wjbDlTLqxe"
      },
      "outputs": [],
      "source": [
        "import numpy as np\n",
        "import pandas as pd\n",
        "\n",
        "df = pd.read_csv('sample_data/california_housing_train.csv')\n"
      ]
    },
    {
      "cell_type": "code",
      "source": [
        "df.corr()['total_bedrooms']\n",
        "# Finds corrolations between other things and total bedrooms"
      ],
      "metadata": {
        "colab": {
          "base_uri": "https://localhost:8080/"
        },
        "id": "p0rRGsjYADzp",
        "outputId": "d19435ec-5f10-42d1-b055-5d4d15d1e39b"
      },
      "execution_count": 53,
      "outputs": [
        {
          "output_type": "execute_result",
          "data": {
            "text/plain": [
              "longitude             0.071802\n",
              "latitude             -0.069373\n",
              "housing_median_age   -0.320434\n",
              "total_rooms           0.928403\n",
              "total_bedrooms        1.000000\n",
              "population            0.881169\n",
              "households            0.980920\n",
              "median_income        -0.013495\n",
              "median_house_value    0.045783\n",
              "Name: total_bedrooms, dtype: float64"
            ]
          },
          "metadata": {},
          "execution_count": 53
        }
      ]
    },
    {
      "cell_type": "code",
      "source": [
        "bedrooms = df['total_bedrooms']\n",
        "df = df.drop(['total_bedrooms','longitude','latitude', 'housing_median_age', 'median_income', 'median_house_value'], axis=1)\n",
        "\n"
      ],
      "metadata": {
        "id": "8ivDwJruBfuL"
      },
      "execution_count": 54,
      "outputs": []
    },
    {
      "cell_type": "code",
      "source": [
        "df_np = df.to_numpy()\n",
        "N = df_np.shape[0]\n",
        "w = np.array([1,1,1])\n",
        "b = 1\n",
        "learnRate = 0.1\n",
        "df_np[0]\n",
        "\n",
        "# Feature Scaling\n",
        "max = [0,0,0]\n",
        "for i in range(N):\n",
        "  if df_np[i][0] > max[0]:\n",
        "    max[0] = df_np[i][0]\n",
        "  if df_np[i][1] > max[1]:\n",
        "    max[1] = df_np[i][1]\n",
        "  if df_np[i][2] > max[2]:\n",
        "    max[2] = df_np[i][2]\n",
        "for i in range(N):\n",
        "  df_np[i][0]=df_np[i][0]/  max[0]\n",
        "  df_np[i][1]=df_np[i][1]/ max[1]\n",
        "  df_np[i][2]=df_np[i][2]/ max[2]\n"
      ],
      "metadata": {
        "id": "4Zm9u1hvCp4O"
      },
      "execution_count": 55,
      "outputs": []
    },
    {
      "cell_type": "code",
      "source": [
        "def cost (N,X,w,b,max,bedrooms):\n",
        "  cost = 0.0\n",
        "  for i in range(N):\n",
        "    X[i][0] *= max[0]\n",
        "    X[i][1] *= max[1]\n",
        "    X[i][2] *= max[2]\n",
        "    f_wb_i = np.dot(X[i],w) + b\n",
        "    cost += (f_wb_i - bedrooms[i])**2\n",
        "  cost = cost/ (2*N)\n",
        "  return (np.squeeze(cost))"
      ],
      "metadata": {
        "id": "NPoRhJ5KU4AO"
      },
      "execution_count": 56,
      "outputs": []
    },
    {
      "cell_type": "code",
      "source": [
        "def decent (df_np,learnRate,w,b,bedrooms):\n",
        "  m,n = df_np.shape\n",
        "  m = 100\n",
        "  dj_dw = np.zeros((n,))\n",
        "  dj_db = 0\n",
        "  for i in range(m):\n",
        "    err = (np.dot(df_np[i],w)+b) - bedrooms[i]\n",
        "    for j in range(n):\n",
        "      dj_dw[j] = dj_dw[j] + err * df_np[i,j]\n",
        "    dj_db += err\n",
        "  dj_dw /= m\n",
        "  dj_db /= m\n",
        "  return dj_dw,dj_db\n"
      ],
      "metadata": {
        "id": "4AAmTxKU2OkB"
      },
      "execution_count": 57,
      "outputs": []
    },
    {
      "cell_type": "code",
      "source": [
        "def predict (X,max,w,b):\n",
        "  X[0] *= max[0]\n",
        "  X[1] *= max[1]\n",
        "  X[2] *= max[2]\n",
        "  calc = (np.dot(X,w))+b\n",
        "  return calc"
      ],
      "metadata": {
        "id": "YiBzkijbkwut"
      },
      "execution_count": 58,
      "outputs": []
    },
    {
      "cell_type": "code",
      "source": [
        "import decimal\n",
        "for t in range(8000000):\n",
        "  dj_dw,dj_db = decent(df_np,learnRate,w,b,bedrooms)\n",
        "  w = w - learnRate*dj_dw\n",
        "  b = b - learnRate*dj_db\n",
        "  print(t,\"W:\",w,\"B:\",b,\"Cost:\",cost(100,df_np,w,b,max,bedrooms),\"X:\",bedrooms[0],\"Prediction:\",predict(df_np[0],max,w,b))"
      ],
      "metadata": {
        "id": "3Aj5uITHbvnj"
      },
      "execution_count": null,
      "outputs": []
    },
    {
      "cell_type": "code",
      "source": [
        "# Before Feature Scaling after 100000\n",
        "## 100000 W: [ 0.21024355 -0.03407831  0.20724991] B: 0.8331559481670938 Cost: 2096.601341583153 X: 1283.0 Prediction: 1243.952426671854 Learning Rate = 0.0000001\n",
        "w = np.array([0.21024355, -0.03407831,  0.20724991])\n",
        "b = 0.8331559481670938\n",
        "# After Feature Scaling after 1000000\n",
        "# 100000 W: [ 8142.48827776 -1020.28633946  1489.53238214] B: -32.334027936709184 Cost: 1968.8438699653846 X: 1283.0 Prediction: 1258.7538334804985\n",
        "w = np.array([8142.48827776, -1020.28633946,  1489.53238214])\n",
        "b = -32.334027936709184\n",
        "\n",
        "# Global Minimum for First 100: 152704 W: [ 8136.29159344 -1052.67892045  1512.99984785] B: -32.33018062475807 Cost: 1968.793824037991 X: 1283.0 Prediction: 1258.740795823365"
      ],
      "metadata": {
        "id": "jcGrYiIahnzk"
      },
      "execution_count": 61,
      "outputs": []
    }
  ]
}